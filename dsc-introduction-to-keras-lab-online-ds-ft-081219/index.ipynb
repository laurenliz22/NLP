{
 "cells": [
  {
   "cell_type": "markdown",
   "metadata": {},
   "source": [
    "# Keras - Lab\n",
    "\n",
    "## Introduction\n",
    "\n",
    "In this lab you'll once again build a neural network but this time with much less production time since we will be using Keras to do a lot of the heavy lifting building blocks which we coded from hand previously.  Our use case will be classifying Bank complaints.\n",
    "\n",
    "\n",
    "## Objectives\n",
    "\n",
    "You will be able to:\n",
    "* Build a neural network using Keras"
   ]
  },
  {
   "cell_type": "markdown",
   "metadata": {},
   "source": [
    "## Loading Required Packages\n",
    "\n",
    "Here we'll import all of the various packages that we'll use in this code along. We'll point out where these imports were used as they come up in the lab."
   ]
  },
  {
   "cell_type": "code",
   "execution_count": 1,
   "metadata": {
    "ExecuteTime": {
     "end_time": "2019-12-11T06:43:33.328552Z",
     "start_time": "2019-12-11T06:43:27.421873Z"
    }
   },
   "outputs": [
    {
     "name": "stderr",
     "output_type": "stream",
     "text": [
      "Using TensorFlow backend.\n"
     ]
    }
   ],
   "source": [
    "import matplotlib.pyplot as plt\n",
    "import pandas as pd\n",
    "import numpy as np\n",
    "import random\n",
    "from sklearn.model_selection import train_test_split\n",
    "from keras.utils.np_utils import to_categorical\n",
    "from sklearn import preprocessing\n",
    "from keras.preprocessing.text import Tokenizer\n",
    "from keras import models\n",
    "from keras import layers\n",
    "from keras import optimizers"
   ]
  },
  {
   "cell_type": "markdown",
   "metadata": {},
   "source": [
    "## Loading the data\n",
    "\n",
    "As usual, we will start our data science process by importing the data itself.  \n",
    "Load and preview as a pandas dataframe.   \n",
    "The data is stored in a file **Bank_complaints.csv**."
   ]
  },
  {
   "cell_type": "code",
   "execution_count": 3,
   "metadata": {
    "ExecuteTime": {
     "end_time": "2019-12-11T06:44:00.399756Z",
     "start_time": "2019-12-11T06:43:59.581551Z"
    }
   },
   "outputs": [
    {
     "data": {
      "text/html": [
       "<div>\n",
       "<style scoped>\n",
       "    .dataframe tbody tr th:only-of-type {\n",
       "        vertical-align: middle;\n",
       "    }\n",
       "\n",
       "    .dataframe tbody tr th {\n",
       "        vertical-align: top;\n",
       "    }\n",
       "\n",
       "    .dataframe thead th {\n",
       "        text-align: right;\n",
       "    }\n",
       "</style>\n",
       "<table border=\"1\" class=\"dataframe\">\n",
       "  <thead>\n",
       "    <tr style=\"text-align: right;\">\n",
       "      <th></th>\n",
       "      <th>Product</th>\n",
       "      <th>Consumer complaint narrative</th>\n",
       "    </tr>\n",
       "  </thead>\n",
       "  <tbody>\n",
       "    <tr>\n",
       "      <th>0</th>\n",
       "      <td>Student loan</td>\n",
       "      <td>In XX/XX/XXXX I filled out the Fedlaon applica...</td>\n",
       "    </tr>\n",
       "    <tr>\n",
       "      <th>1</th>\n",
       "      <td>Student loan</td>\n",
       "      <td>I am being contacted by a debt collector for p...</td>\n",
       "    </tr>\n",
       "    <tr>\n",
       "      <th>2</th>\n",
       "      <td>Student loan</td>\n",
       "      <td>I cosigned XXXX student loans at SallieMae for...</td>\n",
       "    </tr>\n",
       "    <tr>\n",
       "      <th>3</th>\n",
       "      <td>Student loan</td>\n",
       "      <td>Navient has sytematically and illegally failed...</td>\n",
       "    </tr>\n",
       "    <tr>\n",
       "      <th>4</th>\n",
       "      <td>Student loan</td>\n",
       "      <td>My wife became eligible for XXXX Loan Forgiven...</td>\n",
       "    </tr>\n",
       "  </tbody>\n",
       "</table>\n",
       "</div>"
      ],
      "text/plain": [
       "        Product                       Consumer complaint narrative\n",
       "0  Student loan  In XX/XX/XXXX I filled out the Fedlaon applica...\n",
       "1  Student loan  I am being contacted by a debt collector for p...\n",
       "2  Student loan  I cosigned XXXX student loans at SallieMae for...\n",
       "3  Student loan  Navient has sytematically and illegally failed...\n",
       "4  Student loan  My wife became eligible for XXXX Loan Forgiven..."
      ]
     },
     "execution_count": 3,
     "metadata": {},
     "output_type": "execute_result"
    }
   ],
   "source": [
    "#Your code here\n",
    "#import pandas as pd #As reference; already imported above\n",
    "df = pd.read_csv('Bank_complaints.csv')\n",
    "df.head()"
   ]
  },
  {
   "cell_type": "markdown",
   "metadata": {},
   "source": [
    "## Further Preview of the Categories\n",
    "\n",
    "As we said, our task here is to categorize banking complaints into various predefined categories. Preview what these categories are and what percent of the complaints each accounts for."
   ]
  },
  {
   "cell_type": "code",
   "execution_count": 4,
   "metadata": {
    "ExecuteTime": {
     "end_time": "2019-12-11T06:45:23.373793Z",
     "start_time": "2019-12-11T06:45:23.345748Z"
    }
   },
   "outputs": [
    {
     "data": {
      "text/plain": [
       "Student loan                   0.190067\n",
       "Credit card                    0.159000\n",
       "Consumer Loan                  0.157900\n",
       "Mortgage                       0.138867\n",
       "Bank account or service        0.138483\n",
       "Credit reporting               0.114400\n",
       "Checking or savings account    0.101283\n",
       "Name: Product, dtype: float64"
      ]
     },
     "execution_count": 4,
     "metadata": {},
     "output_type": "execute_result"
    }
   ],
   "source": [
    "#Your code here\n",
    "df[\"Product\"].value_counts(normalize=True)"
   ]
  },
  {
   "cell_type": "markdown",
   "metadata": {},
   "source": [
    "## Preprocessing\n",
    "\n",
    "Before we build our neural network, we need to do several preprocessing steps. First, we will create word vector counts (a bag of words type representation) of our complaints text. Next, we will change the category labels to integers. Finally, we will perform our usual train-test split before building and training our neural network using Keras. With that, let's start munging our data!"
   ]
  },
  {
   "cell_type": "markdown",
   "metadata": {},
   "source": [
    "## One-hot encoding of the complaints\n",
    "\n",
    "Our first step again is to transform our textual data into a numerical representation. As we've started to see in some of our previous lessons on NLP, there are many ways to do this. Here, we'll use the `Tokenizer` method from the `preprocessing` module of the Keras package.   \n",
    "\n",
    "As with our previous work using NLTK, this will transform our text complaints into word vectors. (Note that the method of creating a vector is different from our previous work with NLTK; as you'll see, word order will be preserved as opposed to a bag of words representation. In the below code, we'll only keep the 2,000 most common words and use one-hot encoding.\n",
    "\n",
    "Note that the code block below takes advantage of the following package import from our first code cell above.  \n",
    "`from keras.preprocessing.text import Tokenizer`"
   ]
  },
  {
   "cell_type": "code",
   "execution_count": 5,
   "metadata": {
    "ExecuteTime": {
     "end_time": "2019-12-11T06:46:40.660804Z",
     "start_time": "2019-12-11T06:46:40.612403Z"
    }
   },
   "outputs": [],
   "source": [
    "#As a quick preliminary, briefly review the docstring for the Keras.preprocessing.text.Tokenizer method:\n",
    "Tokenizer?"
   ]
  },
  {
   "cell_type": "code",
   "execution_count": 6,
   "metadata": {
    "ExecuteTime": {
     "end_time": "2019-12-11T06:48:00.992451Z",
     "start_time": "2019-12-11T06:47:31.850433Z"
    }
   },
   "outputs": [
    {
     "name": "stdout",
     "output_type": "stream",
     "text": [
      "sequences type: <class 'list'>\n",
      "one_hot_results type: <class 'numpy.ndarray'>\n",
      "Found 50110 unique tokens.\n",
      "Dimensions of our coded results: (60000, 2000)\n"
     ]
    }
   ],
   "source": [
    "#Now onto the actual code recipe...\n",
    "#⏰ This cell may take about a thirty seconds to run\n",
    "complaints = df[\"Consumer complaint narrative\"] #Our raw text complaints\n",
    "\n",
    "tokenizer = Tokenizer(num_words=2000) #Initialize a tokenizer.\n",
    "\n",
    "tokenizer.fit_on_texts(complaints) #Fit it to the complaints\n",
    "\n",
    "sequences = tokenizer.texts_to_sequences(complaints) #Generate sequences\n",
    "print('sequences type:', type(sequences))\n",
    "\n",
    "one_hot_results= tokenizer.texts_to_matrix(complaints, mode='binary') #Similar to sequences, but returns a numpy array\n",
    "print('one_hot_results type:', type(one_hot_results))\n",
    "\n",
    "word_index = tokenizer.word_index #Useful if we wish to decode (more explanation below)\n",
    "\n",
    "print('Found %s unique tokens.' % len(word_index)) #Tokens are the number of unique words across the corpus\n",
    "\n",
    "\n",
    "print('Dimensions of our coded results:', np.shape(one_hot_results)) #Our coded data"
   ]
  },
  {
   "cell_type": "markdown",
   "metadata": {},
   "source": [
    "## Decoding our Word Vectors\n",
    "As a note, you can also decode these vectorized representations of the reviews. The `word_index` variable, defined above, stores the mapping from the label number to the actual word. Somewhat tediously, we can turn this dictionary inside out and map it back to our word vectors, giving us roughly the original complaint back. (As you'll see, the text won't be identical as we limited ourselves to 200 words.)"
   ]
  },
  {
   "cell_type": "markdown",
   "metadata": {},
   "source": [
    "## Python Review / Mini Challenge\n",
    "\n",
    "While a bit tangential to our main topic of interest, we need to reverse our current dictionary `word_index` which maps words from our corpus to integers. In decoding our one_hot_results, we will need to create a dictionary of these integers to the original words. Below, take the `word_index` dictionary object and change the orientation so that the values are keys and the keys values. In other words, you are transforming something of the form {A:1, B:2, C:3} to {1:A, 2:B, 3:C}"
   ]
  },
  {
   "cell_type": "code",
   "execution_count": 7,
   "metadata": {
    "ExecuteTime": {
     "end_time": "2019-12-11T06:49:58.093149Z",
     "start_time": "2019-12-11T06:49:58.062359Z"
    }
   },
   "outputs": [],
   "source": [
    "#Your code here\n",
    "reverse_index = dict([(value, key) for (key, value) in word_index.items()])"
   ]
  },
  {
   "cell_type": "markdown",
   "metadata": {},
   "source": [
    "## Back to Decoding Our Word Vectors..."
   ]
  },
  {
   "cell_type": "code",
   "execution_count": 8,
   "metadata": {
    "ExecuteTime": {
     "end_time": "2019-12-11T06:50:24.365484Z",
     "start_time": "2019-12-11T06:50:24.349541Z"
    }
   },
   "outputs": [
    {
     "name": "stdout",
     "output_type": "stream",
     "text": [
      "Original complaint text:\n",
      "I have already filed several complaints about AES/PHEAA. I was notified by a XXXX XXXX let @ XXXX, who pretended to be from your office, he said he was from CFPB. I found out this morning he is n't from your office, but is actually works at XXXX. \n",
      "\n",
      "This has wasted weeks of my time. They AES/PHEAA confirmed and admitted ( see attached transcript of XXXX, conversation at XXXX ( XXXX ) with XXXX that proves they verified the loans are not mine ) the student loans they had XXXX, and collected on, and reported negate credit reporting in my name are in fact, not mine. \n",
      "They conclued their investigation on XXXX admitting they made a mistake and have my name on soneone elses loans. I these XXXX loans total {$10000.00}, original amount. My XXXX loans I got was total {$3500.00}. We proved by providing AES/PHEAA, this with my original promissary notes I located recently, the XXXX of my college provided AES/PHEAA with their original shoeinf amounts of my XXXX loans which show different dates and amounts, the dates and amounts are not even close to matching these loans they have in my name, The original lender, XXXX XXXX Bank notifying AES/PHEAA, they never issued me a student loan, and original Loan Guarantor, XXXX, notifying AES/PHEAA, they never were guarantor of my loans. \n",
      "\n",
      "XXXX straight forward. But today, this person, XXXX XXXX, told me they know these loans are not mine, and they refuse to remove my name off these XXXX loan 's and correct their mistake, essentially forcing me to pay these loans off, bucause in XXXX they sold the loans to XXXX loans. \n",
      "\n",
      "This is absurd, first protruding to be this office, and then refusing to correct their mistake. \n",
      "\n",
      "Please for the love of XXXX will soneone from your office call me at XXXX, today. I am a XXXX vet and they are knowingly discriminating against me. \n",
      "Pretending to be you.\n",
      "\n",
      "\n",
      "\n",
      "Decoded review from Tokenizer:\n",
      "i have already filed several complaints about aes i was notified by a xxxx xxxx let xxxx who to be from your office he said he was from cfpb i found out this morning he is n't from your office but is actually works at xxxx this has weeks of my time they aes confirmed and admitted see attached of xxxx conversation at xxxx xxxx with xxxx that they verified the loans are not mine the student loans they had xxxx and on and reported credit reporting in my name are in fact not mine they their investigation on xxxx they made a mistake and have my name on loans i these xxxx loans total 10000 00 original amount my xxxx loans i got was total 00 we by providing aes this with my original notes i located recently the xxxx of my college provided aes with their original amounts of my xxxx loans which show different dates and amounts the dates and amounts are not even close to these loans they have in my name the original lender xxxx xxxx bank notifying aes they never issued me a student loan and original loan xxxx notifying aes they never were of my loans xxxx forward but today this person xxxx xxxx told me they know these loans are not mine and they refuse to remove my name off these xxxx loan 's and correct their mistake essentially me to pay these loans off in xxxx they sold the loans to xxxx loans this is first to be this office and then refusing to correct their mistake please for the of xxxx will from your office call me at xxxx today i am a xxxx and they are against me to be you\n"
     ]
    }
   ],
   "source": [
    "comment_idx_to_preview = 19\n",
    "print('Original complaint text:')\n",
    "print(complaints[comment_idx_to_preview])\n",
    "print('\\n\\n')\n",
    "\n",
    "#The reverse_index cell block above must be complete in order for this cell block to successively execute.\n",
    "decoded_review = ' '.join([reverse_index.get(i) for i in sequences[comment_idx_to_preview]])\n",
    "print('Decoded review from Tokenizer:')\n",
    "print(decoded_review)"
   ]
  },
  {
   "cell_type": "markdown",
   "metadata": {},
   "source": [
    "## Convert the Products to Numerical Categories\n",
    "\n",
    "On to step two of our preprocessing: converting our descriptive categories into integers."
   ]
  },
  {
   "cell_type": "code",
   "execution_count": 9,
   "metadata": {
    "ExecuteTime": {
     "end_time": "2019-12-11T06:52:45.077090Z",
     "start_time": "2019-12-11T06:52:45.048014Z"
    }
   },
   "outputs": [
    {
     "name": "stdout",
     "output_type": "stream",
     "text": [
      "Original class labels:\n",
      "['Bank account or service', 'Checking or savings account', 'Consumer Loan', 'Credit card', 'Credit reporting', 'Mortgage', 'Student loan']\n",
      "\n",
      "\n",
      "New product labels:\n",
      "[6 6 6 ... 4 4 4]\n",
      "\n",
      "\n",
      "One hot labels; 7 binary columns, one for each of the categories.\n",
      "[[0. 0. 0. ... 0. 0. 1.]\n",
      " [0. 0. 0. ... 0. 0. 1.]\n",
      " [0. 0. 0. ... 0. 0. 1.]\n",
      " ...\n",
      " [0. 0. 0. ... 1. 0. 0.]\n",
      " [0. 0. 0. ... 1. 0. 0.]\n",
      " [0. 0. 0. ... 1. 0. 0.]]\n",
      "\n",
      "\n",
      "One hot labels shape:\n",
      "(60000, 7)\n"
     ]
    }
   ],
   "source": [
    "product = df[\"Product\"]\n",
    "\n",
    "le = preprocessing.LabelEncoder() #Initialize. le used as abbreviation fo label encoder\n",
    "le.fit(product)\n",
    "print(\"Original class labels:\")\n",
    "print(list(le.classes_))\n",
    "print('\\n')\n",
    "product_cat = le.transform(product)  \n",
    "#list(le.inverse_transform([0, 1, 3, 3, 0, 6, 4])) #If you wish to retrieve the original descriptive labels post production\n",
    "\n",
    "print('New product labels:')\n",
    "print(product_cat)\n",
    "print('\\n')\n",
    "\n",
    "\n",
    "print('One hot labels; 7 binary columns, one for each of the categories.') #Each row will be all zeros except for the category for that observation.\n",
    "product_onehot = to_categorical(product_cat)\n",
    "print(product_onehot)\n",
    "print('\\n')\n",
    "\n",
    "print('One hot labels shape:')\n",
    "print(np.shape(product_onehot))"
   ]
  },
  {
   "cell_type": "markdown",
   "metadata": {},
   "source": [
    "## Train - test split\n",
    "\n",
    "Now for our final preprocessing step: the usual train-test split."
   ]
  },
  {
   "cell_type": "code",
   "execution_count": 10,
   "metadata": {
    "ExecuteTime": {
     "end_time": "2019-12-11T06:54:53.880416Z",
     "start_time": "2019-12-11T06:54:53.282956Z"
    }
   },
   "outputs": [
    {
     "name": "stdout",
     "output_type": "stream",
     "text": [
      "Test label shape: (1500, 7)\n",
      "Train label shape: (58500, 7)\n",
      "Test shape: (1500, 2000)\n",
      "Train shape: (58500, 2000)\n"
     ]
    }
   ],
   "source": [
    "import random\n",
    "random.seed(123)\n",
    "test_index = random.sample(range(1,10000), 1500)\n",
    "\n",
    "test = one_hot_results[test_index]\n",
    "train = np.delete(one_hot_results, test_index, 0)\n",
    "\n",
    "\n",
    "label_test = product_onehot[test_index]\n",
    "label_train = np.delete(product_onehot, test_index, 0)\n",
    "\n",
    "print(\"Test label shape:\", np.shape(label_test))\n",
    "print(\"Train label shape:\", np.shape(label_train))\n",
    "print(\"Test shape:\", np.shape(test))\n",
    "print(\"Train shape:\", np.shape(train))"
   ]
  },
  {
   "cell_type": "markdown",
   "metadata": {},
   "source": [
    "## Building the network"
   ]
  },
  {
   "cell_type": "markdown",
   "metadata": {},
   "source": [
    "Let's build a fully connected (Dense) layer network with relu activations in Keras. You can do this using: `Dense(16, activation='relu')`."
   ]
  },
  {
   "cell_type": "markdown",
   "metadata": {},
   "source": [
    "In this example, use 2 hidden with 50 units in the first layer and 25 in the second, both with a `relu` activation function. Because we are dealing with a multiclass problem (classifying the complaints into 7 ), we use a use a softmax classifier in order to output 7 class probabilities per case.  \n",
    "\n",
    "The previous imports that you'll use here are:  \n",
    "\n",
    "```from keras import models\n",
    "from keras import layers```"
   ]
  },
  {
   "cell_type": "code",
   "execution_count": 11,
   "metadata": {
    "ExecuteTime": {
     "end_time": "2019-12-11T06:57:28.666503Z",
     "start_time": "2019-12-11T06:57:28.564631Z"
    }
   },
   "outputs": [],
   "source": [
    "#Your code here; initialize a sequential model with 3 layers; \n",
    "#two hidden relu and the final classification output using softmax\n",
    "model = models.Sequential()\n",
    "model.add(layers.Dense(50, activation='relu', input_shape=(2000,))) \n",
    "model.add(layers.Dense(25, activation='relu'))\n",
    "model.add(layers.Dense(7, activation='softmax'))"
   ]
  },
  {
   "cell_type": "markdown",
   "metadata": {},
   "source": [
    "## Compiling the model and look at the results\n",
    "\n",
    "Now, compile the model! This time, use `'categorical_crossentropy'` as the loss function and stochastic gradient descent, `'SGD'` as the optimizer. As in the previous lesson, include the accuracy as a metric."
   ]
  },
  {
   "cell_type": "code",
   "execution_count": 12,
   "metadata": {
    "ExecuteTime": {
     "end_time": "2019-12-11T06:57:57.747075Z",
     "start_time": "2019-12-11T06:57:57.695494Z"
    }
   },
   "outputs": [],
   "source": [
    "#Your code here\n",
    "model.compile(optimizer='SGD', loss='categorical_crossentropy', \n",
    "              metrics=['accuracy'])"
   ]
  },
  {
   "cell_type": "markdown",
   "metadata": {},
   "source": [
    "## Training the model\n",
    "\n",
    "In the compiler, you'll be passing the optimizer (SGD = stochastic gradient descent), loss function, and metrics. Train the model for 120 epochs in mini-batches of 256 samples.\n",
    "\n",
    "_Note:_ ⏰ _Your code may take about one to two minutes to run._"
   ]
  },
  {
   "cell_type": "code",
   "execution_count": 13,
   "metadata": {
    "ExecuteTime": {
     "end_time": "2019-12-11T07:01:54.665391Z",
     "start_time": "2019-12-11T06:58:27.787455Z"
    }
   },
   "outputs": [
    {
     "name": "stdout",
     "output_type": "stream",
     "text": [
      "Epoch 1/120\n",
      "58500/58500 [==============================] - 2s 29us/step - loss: 1.8744 - acc: 0.2206\n",
      "Epoch 2/120\n",
      "58500/58500 [==============================] - 2s 26us/step - loss: 1.6336 - acc: 0.4062\n",
      "Epoch 3/120\n",
      "58500/58500 [==============================] - 1s 22us/step - loss: 1.3189 - acc: 0.5633\n",
      "Epoch 4/120\n",
      "58500/58500 [==============================] - 1s 22us/step - loss: 1.0714 - acc: 0.6435\n",
      "Epoch 5/120\n",
      "58500/58500 [==============================] - 1s 23us/step - loss: 0.9127 - acc: 0.6888\n",
      "Epoch 6/120\n",
      "58500/58500 [==============================] - 2s 26us/step - loss: 0.8098 - acc: 0.7162\n",
      "Epoch 7/120\n",
      "58500/58500 [==============================] - 2s 32us/step - loss: 0.7412 - acc: 0.7357\n",
      "Epoch 8/120\n",
      "58500/58500 [==============================] - 1s 20us/step - loss: 0.6940 - acc: 0.7486\n",
      "Epoch 9/120\n",
      "58500/58500 [==============================] - 1s 19us/step - loss: 0.6603 - acc: 0.7588\n",
      "Epoch 10/120\n",
      "58500/58500 [==============================] - 1s 20us/step - loss: 0.6350 - acc: 0.7665\n",
      "Epoch 11/120\n",
      "58500/58500 [==============================] - 2s 28us/step - loss: 0.6147 - acc: 0.7729\n",
      "Epoch 12/120\n",
      "58500/58500 [==============================] - 1s 24us/step - loss: 0.5982 - acc: 0.7805\n",
      "Epoch 13/120\n",
      "58500/58500 [==============================] - 1s 23us/step - loss: 0.5840 - acc: 0.7860\n",
      "Epoch 14/120\n",
      "58500/58500 [==============================] - 1s 26us/step - loss: 0.5714 - acc: 0.7908\n",
      "Epoch 15/120\n",
      "58500/58500 [==============================] - 1s 21us/step - loss: 0.5605 - acc: 0.7954\n",
      "Epoch 16/120\n",
      "58500/58500 [==============================] - 1s 22us/step - loss: 0.5505 - acc: 0.7992\n",
      "Epoch 17/120\n",
      "58500/58500 [==============================] - 1s 21us/step - loss: 0.5414 - acc: 0.8027\n",
      "Epoch 18/120\n",
      "58500/58500 [==============================] - 1s 20us/step - loss: 0.5334 - acc: 0.8071\n",
      "Epoch 19/120\n",
      "58500/58500 [==============================] - 1s 21us/step - loss: 0.5256 - acc: 0.8097\n",
      "Epoch 20/120\n",
      "58500/58500 [==============================] - 1s 20us/step - loss: 0.5187 - acc: 0.8123\n",
      "Epoch 21/120\n",
      "58500/58500 [==============================] - 1s 22us/step - loss: 0.5120 - acc: 0.8151\n",
      "Epoch 22/120\n",
      "58500/58500 [==============================] - 1s 24us/step - loss: 0.5060 - acc: 0.8175\n",
      "Epoch 23/120\n",
      "58500/58500 [==============================] - 2s 35us/step - loss: 0.5003 - acc: 0.8203\n",
      "Epoch 24/120\n",
      "58500/58500 [==============================] - 2s 32us/step - loss: 0.4949 - acc: 0.8216\n",
      "Epoch 25/120\n",
      "58500/58500 [==============================] - 1s 26us/step - loss: 0.4898 - acc: 0.8237\n",
      "Epoch 26/120\n",
      "58500/58500 [==============================] - 2s 33us/step - loss: 0.4850 - acc: 0.8262\n",
      "Epoch 27/120\n",
      "58500/58500 [==============================] - 2s 26us/step - loss: 0.4806 - acc: 0.8282\n",
      "Epoch 28/120\n",
      "58500/58500 [==============================] - 1s 25us/step - loss: 0.4763 - acc: 0.8287\n",
      "Epoch 29/120\n",
      "58500/58500 [==============================] - 1s 24us/step - loss: 0.4722 - acc: 0.8307\n",
      "Epoch 30/120\n",
      "58500/58500 [==============================] - 1s 24us/step - loss: 0.4683 - acc: 0.8328\n",
      "Epoch 31/120\n",
      "58500/58500 [==============================] - 1s 24us/step - loss: 0.4646 - acc: 0.8336\n",
      "Epoch 32/120\n",
      "58500/58500 [==============================] - 2s 27us/step - loss: 0.4609 - acc: 0.8355\n",
      "Epoch 33/120\n",
      "58500/58500 [==============================] - 2s 29us/step - loss: 0.4576 - acc: 0.8368\n",
      "Epoch 34/120\n",
      "58500/58500 [==============================] - 2s 26us/step - loss: 0.4542 - acc: 0.8378\n",
      "Epoch 35/120\n",
      "58500/58500 [==============================] - 1s 24us/step - loss: 0.4510 - acc: 0.8394\n",
      "Epoch 36/120\n",
      "58500/58500 [==============================] - 1s 24us/step - loss: 0.4481 - acc: 0.8397\n",
      "Epoch 37/120\n",
      "58500/58500 [==============================] - 2s 26us/step - loss: 0.4453 - acc: 0.8409\n",
      "Epoch 38/120\n",
      "58500/58500 [==============================] - 2s 27us/step - loss: 0.4425 - acc: 0.8418\n",
      "Epoch 39/120\n",
      "58500/58500 [==============================] - 2s 27us/step - loss: 0.4397 - acc: 0.8431\n",
      "Epoch 40/120\n",
      "58500/58500 [==============================] - 2s 26us/step - loss: 0.4372 - acc: 0.8436\n",
      "Epoch 41/120\n",
      "58500/58500 [==============================] - 2s 28us/step - loss: 0.4348 - acc: 0.8445\n",
      "Epoch 42/120\n",
      "58500/58500 [==============================] - 2s 38us/step - loss: 0.4321 - acc: 0.8454\n",
      "Epoch 43/120\n",
      "58500/58500 [==============================] - 2s 32us/step - loss: 0.4297 - acc: 0.8460\n",
      "Epoch 44/120\n",
      "58500/58500 [==============================] - 2s 27us/step - loss: 0.4275 - acc: 0.8472\n",
      "Epoch 45/120\n",
      "58500/58500 [==============================] - 2s 26us/step - loss: 0.4254 - acc: 0.8475\n",
      "Epoch 46/120\n",
      "58500/58500 [==============================] - 2s 26us/step - loss: 0.4233 - acc: 0.8493\n",
      "Epoch 47/120\n",
      "58500/58500 [==============================] - 2s 32us/step - loss: 0.4211 - acc: 0.8500\n",
      "Epoch 48/120\n",
      "58500/58500 [==============================] - 2s 27us/step - loss: 0.4190 - acc: 0.8509\n",
      "Epoch 49/120\n",
      "58500/58500 [==============================] - 2s 27us/step - loss: 0.4173 - acc: 0.8508\n",
      "Epoch 50/120\n",
      "58500/58500 [==============================] - 2s 27us/step - loss: 0.4152 - acc: 0.8520\n",
      "Epoch 51/120\n",
      "58500/58500 [==============================] - 2s 30us/step - loss: 0.4129 - acc: 0.8525\n",
      "Epoch 52/120\n",
      "58500/58500 [==============================] - 2s 32us/step - loss: 0.4113 - acc: 0.8529\n",
      "Epoch 53/120\n",
      "58500/58500 [==============================] - 2s 40us/step - loss: 0.4099 - acc: 0.8536\n",
      "Epoch 54/120\n",
      "58500/58500 [==============================] - 2s 36us/step - loss: 0.4075 - acc: 0.8543\n",
      "Epoch 55/120\n",
      "58500/58500 [==============================] - 2s 34us/step - loss: 0.4061 - acc: 0.8550\n",
      "Epoch 56/120\n",
      "58500/58500 [==============================] - 3s 50us/step - loss: 0.4044 - acc: 0.8562\n",
      "Epoch 57/120\n",
      "58500/58500 [==============================] - 2s 30us/step - loss: 0.4027 - acc: 0.8565\n",
      "Epoch 58/120\n",
      "58500/58500 [==============================] - 2s 34us/step - loss: 0.4011 - acc: 0.8569\n",
      "Epoch 59/120\n",
      "58500/58500 [==============================] - 2s 34us/step - loss: 0.3998 - acc: 0.8572\n",
      "Epoch 60/120\n",
      "58500/58500 [==============================] - 2s 31us/step - loss: 0.3977 - acc: 0.8582\n",
      "Epoch 61/120\n",
      "58500/58500 [==============================] - 2s 30us/step - loss: 0.3963 - acc: 0.8586\n",
      "Epoch 62/120\n",
      "58500/58500 [==============================] - 2s 29us/step - loss: 0.3950 - acc: 0.8596\n",
      "Epoch 63/120\n",
      "58500/58500 [==============================] - 2s 26us/step - loss: 0.3935 - acc: 0.8591\n",
      "Epoch 64/120\n",
      "58500/58500 [==============================] - 2s 27us/step - loss: 0.3919 - acc: 0.8601: 0s - loss: 0.3938 - a\n",
      "Epoch 65/120\n",
      "58500/58500 [==============================] - 1s 24us/step - loss: 0.3906 - acc: 0.8597\n",
      "Epoch 66/120\n",
      "58500/58500 [==============================] - 2s 36us/step - loss: 0.3891 - acc: 0.8609\n",
      "Epoch 67/120\n",
      "58500/58500 [==============================] - 2s 33us/step - loss: 0.3880 - acc: 0.8614\n",
      "Epoch 68/120\n",
      "58500/58500 [==============================] - 2s 36us/step - loss: 0.3866 - acc: 0.8622\n",
      "Epoch 69/120\n",
      "58500/58500 [==============================] - 2s 30us/step - loss: 0.3853 - acc: 0.8620\n",
      "Epoch 70/120\n",
      "58500/58500 [==============================] - 2s 31us/step - loss: 0.3836 - acc: 0.8629\n",
      "Epoch 71/120\n",
      "58500/58500 [==============================] - 2s 30us/step - loss: 0.3828 - acc: 0.8628\n",
      "Epoch 72/120\n",
      "58500/58500 [==============================] - 2s 33us/step - loss: 0.3813 - acc: 0.8637\n",
      "Epoch 73/120\n",
      "58500/58500 [==============================] - 2s 28us/step - loss: 0.3804 - acc: 0.8639\n",
      "Epoch 74/120\n",
      "58500/58500 [==============================] - 2s 28us/step - loss: 0.3791 - acc: 0.8642\n",
      "Epoch 75/120\n",
      "58500/58500 [==============================] - 2s 30us/step - loss: 0.3779 - acc: 0.8642\n",
      "Epoch 76/120\n",
      "58500/58500 [==============================] - 2s 31us/step - loss: 0.3764 - acc: 0.8657\n",
      "Epoch 77/120\n",
      "58500/58500 [==============================] - 2s 31us/step - loss: 0.3754 - acc: 0.8662\n",
      "Epoch 78/120\n",
      "58500/58500 [==============================] - 2s 31us/step - loss: 0.3745 - acc: 0.8670\n",
      "Epoch 79/120\n",
      "58500/58500 [==============================] - 2s 30us/step - loss: 0.3726 - acc: 0.8668\n",
      "Epoch 80/120\n",
      "58500/58500 [==============================] - 2s 31us/step - loss: 0.3720 - acc: 0.8664\n",
      "Epoch 81/120\n"
     ]
    },
    {
     "name": "stdout",
     "output_type": "stream",
     "text": [
      "58500/58500 [==============================] - 2s 29us/step - loss: 0.3707 - acc: 0.8677\n",
      "Epoch 82/120\n",
      "58500/58500 [==============================] - 2s 33us/step - loss: 0.3699 - acc: 0.8678\n",
      "Epoch 83/120\n",
      "58500/58500 [==============================] - 2s 27us/step - loss: 0.3684 - acc: 0.8683\n",
      "Epoch 84/120\n",
      "58500/58500 [==============================] - 2s 26us/step - loss: 0.3678 - acc: 0.8676\n",
      "Epoch 85/120\n",
      "58500/58500 [==============================] - 2s 31us/step - loss: 0.3662 - acc: 0.8694\n",
      "Epoch 86/120\n",
      "58500/58500 [==============================] - 2s 30us/step - loss: 0.3652 - acc: 0.8698\n",
      "Epoch 87/120\n",
      "58500/58500 [==============================] - 2s 28us/step - loss: 0.3644 - acc: 0.8703\n",
      "Epoch 88/120\n",
      "58500/58500 [==============================] - 2s 29us/step - loss: 0.3634 - acc: 0.8698\n",
      "Epoch 89/120\n",
      "58500/58500 [==============================] - 2s 31us/step - loss: 0.3623 - acc: 0.8705\n",
      "Epoch 90/120\n",
      "58500/58500 [==============================] - 2s 36us/step - loss: 0.3612 - acc: 0.8710\n",
      "Epoch 91/120\n",
      "58500/58500 [==============================] - 2s 34us/step - loss: 0.3604 - acc: 0.8708\n",
      "Epoch 92/120\n",
      "58500/58500 [==============================] - 2s 27us/step - loss: 0.3595 - acc: 0.8712\n",
      "Epoch 93/120\n",
      "58500/58500 [==============================] - 1s 26us/step - loss: 0.3581 - acc: 0.8717\n",
      "Epoch 94/120\n",
      "58500/58500 [==============================] - 2s 27us/step - loss: 0.3575 - acc: 0.8726\n",
      "Epoch 95/120\n",
      "58500/58500 [==============================] - 2s 36us/step - loss: 0.3566 - acc: 0.8728\n",
      "Epoch 96/120\n",
      "58500/58500 [==============================] - 2s 32us/step - loss: 0.3555 - acc: 0.8735\n",
      "Epoch 97/120\n",
      "58500/58500 [==============================] - 2s 30us/step - loss: 0.3545 - acc: 0.8729\n",
      "Epoch 98/120\n",
      "58500/58500 [==============================] - 2s 35us/step - loss: 0.3536 - acc: 0.8740\n",
      "Epoch 99/120\n",
      "58500/58500 [==============================] - 2s 27us/step - loss: 0.3526 - acc: 0.8742\n",
      "Epoch 100/120\n",
      "58500/58500 [==============================] - 2s 26us/step - loss: 0.3518 - acc: 0.8735\n",
      "Epoch 101/120\n",
      "58500/58500 [==============================] - 2s 35us/step - loss: 0.3509 - acc: 0.8743\n",
      "Epoch 102/120\n",
      "58500/58500 [==============================] - 2s 34us/step - loss: 0.3499 - acc: 0.8749\n",
      "Epoch 103/120\n",
      "58500/58500 [==============================] - 2s 37us/step - loss: 0.3491 - acc: 0.8751\n",
      "Epoch 104/120\n",
      "58500/58500 [==============================] - 2s 36us/step - loss: 0.3477 - acc: 0.8758\n",
      "Epoch 105/120\n",
      "58500/58500 [==============================] - 2s 38us/step - loss: 0.3471 - acc: 0.8752\n",
      "Epoch 106/120\n",
      "58500/58500 [==============================] - 2s 36us/step - loss: 0.3465 - acc: 0.8768\n",
      "Epoch 107/120\n",
      "58500/58500 [==============================] - 2s 36us/step - loss: 0.3451 - acc: 0.8773\n",
      "Epoch 108/120\n",
      "58500/58500 [==============================] - 2s 36us/step - loss: 0.3443 - acc: 0.8772\n",
      "Epoch 109/120\n",
      "58500/58500 [==============================] - 2s 33us/step - loss: 0.3434 - acc: 0.8772\n",
      "Epoch 110/120\n",
      "58500/58500 [==============================] - 2s 30us/step - loss: 0.3424 - acc: 0.8788\n",
      "Epoch 111/120\n",
      "58500/58500 [==============================] - 2s 35us/step - loss: 0.3416 - acc: 0.8784\n",
      "Epoch 112/120\n",
      "58500/58500 [==============================] - 2s 36us/step - loss: 0.3409 - acc: 0.8790\n",
      "Epoch 113/120\n",
      "58500/58500 [==============================] - 2s 42us/step - loss: 0.3399 - acc: 0.8784\n",
      "Epoch 114/120\n",
      "58500/58500 [==============================] - 2s 35us/step - loss: 0.3393 - acc: 0.8786\n",
      "Epoch 115/120\n",
      "58500/58500 [==============================] - 2s 33us/step - loss: 0.3379 - acc: 0.8794\n",
      "Epoch 116/120\n",
      "58500/58500 [==============================] - 2s 31us/step - loss: 0.3371 - acc: 0.8798: 0s - loss: 0.3398 - ac\n",
      "Epoch 117/120\n",
      "58500/58500 [==============================] - 2s 31us/step - loss: 0.3364 - acc: 0.8794\n",
      "Epoch 118/120\n",
      "58500/58500 [==============================] - 2s 31us/step - loss: 0.3355 - acc: 0.8808\n",
      "Epoch 119/120\n",
      "58500/58500 [==============================] - 2s 31us/step - loss: 0.3347 - acc: 0.8811\n",
      "Epoch 120/120\n",
      "58500/58500 [==============================] - 2s 31us/step - loss: 0.3340 - acc: 0.8810\n"
     ]
    }
   ],
   "source": [
    "#Your code here\n",
    "history = model.fit(train, label_train, epochs=120, batch_size=256)"
   ]
  },
  {
   "cell_type": "markdown",
   "metadata": {},
   "source": [
    "Recall that the dictionary `history` has two entries: the loss and the accuracy achieved using the training set."
   ]
  },
  {
   "cell_type": "code",
   "execution_count": 14,
   "metadata": {
    "ExecuteTime": {
     "end_time": "2019-12-11T07:01:59.745967Z",
     "start_time": "2019-12-11T07:01:59.736689Z"
    }
   },
   "outputs": [
    {
     "data": {
      "text/plain": [
       "dict_keys(['loss', 'acc'])"
      ]
     },
     "execution_count": 14,
     "metadata": {},
     "output_type": "execute_result"
    }
   ],
   "source": [
    "history_dict = history.history\n",
    "history_dict.keys()"
   ]
  },
  {
   "cell_type": "markdown",
   "metadata": {},
   "source": [
    "## Plot the results\n",
    "\n",
    "As you might expect, we'll use our ```import matplotlib.pyplot as plt``` for graphing. Use the data stored in the history_dict above to plot the loss vs epochs and the accuracy vs epochs."
   ]
  },
  {
   "cell_type": "code",
   "execution_count": 15,
   "metadata": {
    "ExecuteTime": {
     "end_time": "2019-12-11T07:02:03.002315Z",
     "start_time": "2019-12-11T07:02:02.757509Z"
    }
   },
   "outputs": [
    {
     "data": {
      "image/png": "[encoded data removed]",
      "text/plain": [
       "<Figure size 432x288 with 1 Axes>"
      ]
     },
     "metadata": {
      "needs_background": "light"
     },
     "output_type": "display_data"
    }
   ],
   "source": [
    "#Your code here; plot the loss vs the number of epoch\n",
    "loss_values = history_dict['loss']\n",
    "epochs = range(1, len(loss_values) + 1)\n",
    "plt.plot(epochs, loss_values, 'g', label='Training loss')\n",
    "\n",
    "plt.title('Training loss')\n",
    "plt.xlabel('Epochs')\n",
    "plt.ylabel('Loss')\n",
    "plt.legend()\n",
    "plt.show()"
   ]
  },
  {
   "cell_type": "code",
   "execution_count": 16,
   "metadata": {
    "ExecuteTime": {
     "end_time": "2019-12-11T07:02:07.756592Z",
     "start_time": "2019-12-11T07:02:07.567977Z"
    }
   },
   "outputs": [
    {
     "data": {
      "image/png": "[encoded data removed]",
      "text/plain": [
       "<Figure size 432x288 with 1 Axes>"
      ]
     },
     "metadata": {
      "needs_background": "light"
     },
     "output_type": "display_data"
    }
   ],
   "source": [
    "#Your code here; plot the training accuracy vs the number of epochs\n",
    "acc_values = history_dict['acc'] \n",
    "\n",
    "plt.plot(epochs, acc_values, 'r', label='Training acc')\n",
    "plt.title('Training accuracy')\n",
    "plt.xlabel('Epochs')\n",
    "plt.ylabel('Loss')\n",
    "plt.legend()\n",
    "plt.show()"
   ]
  },
  {
   "cell_type": "markdown",
   "metadata": {},
   "source": [
    "It seems like we could just keep on going and accuracy would go up!"
   ]
  },
  {
   "cell_type": "markdown",
   "metadata": {},
   "source": [
    "## Make predictions\n",
    "\n",
    "Finally, it's time to output. Use the method discussed in the previous lesson to output (probability) predictions for the test set."
   ]
  },
  {
   "cell_type": "code",
   "execution_count": 18,
   "metadata": {
    "ExecuteTime": {
     "end_time": "2019-12-11T07:02:41.682814Z",
     "start_time": "2019-12-11T07:02:41.618600Z"
    }
   },
   "outputs": [
    {
     "data": {
      "text/plain": [
       "array([[7.6646047e-16, 4.6609460e-16, 2.4019831e-12, ..., 2.2510596e-12,\n",
       "        3.6465335e-16, 1.0000000e+00],\n",
       "       [1.4953275e-12, 6.0092144e-13, 2.3466447e-09, ..., 1.1572012e-10,\n",
       "        4.9351390e-10, 1.0000000e+00],\n",
       "       [5.3025696e-12, 2.9085736e-12, 4.5136925e-09, ..., 4.8072391e-09,\n",
       "        5.4846701e-09, 1.0000000e+00],\n",
       "       ...,\n",
       "       [1.1830869e-07, 1.1238538e-06, 1.9646666e-07, ..., 2.3476652e-05,\n",
       "        6.3736259e-08, 9.9997497e-01],\n",
       "       [5.0068343e-07, 1.3288810e-09, 6.3320304e-06, ..., 1.0537976e-06,\n",
       "        3.9568076e-06, 9.9997902e-01],\n",
       "       [4.6386592e-08, 3.4274969e-08, 3.6131271e-07, ..., 6.6372735e-07,\n",
       "        2.3669654e-05, 9.9997509e-01]], dtype=float32)"
      ]
     },
     "execution_count": 18,
     "metadata": {},
     "output_type": "execute_result"
    }
   ],
   "source": [
    "y_hat_test = model.predict(test)\n",
    "y_hat_test#Your code here; Output (probability) predictions for the test set."
   ]
  },
  {
   "cell_type": "markdown",
   "metadata": {},
   "source": [
    "## Evaluate Performance\n",
    "\n",
    "Finally, print the loss and accuracy for both the train and test sets of the final trained model."
   ]
  },
  {
   "cell_type": "code",
   "execution_count": 19,
   "metadata": {
    "ExecuteTime": {
     "end_time": "2019-12-11T07:02:53.814266Z",
     "start_time": "2019-12-11T07:02:51.625437Z"
    }
   },
   "outputs": [
    {
     "name": "stdout",
     "output_type": "stream",
     "text": [
      "58500/58500 [==============================] - 2s 37us/step\n"
     ]
    },
    {
     "data": {
      "text/plain": [
       "[0.328497164707408, 0.8842051282051282]"
      ]
     },
     "execution_count": 19,
     "metadata": {},
     "output_type": "execute_result"
    }
   ],
   "source": [
    "#Your code here; print the loss and accuracy for the training set.\n",
    "results_train = model.evaluate(train, label_train)\n",
    "results_train"
   ]
  },
  {
   "cell_type": "code",
   "execution_count": 20,
   "metadata": {
    "ExecuteTime": {
     "end_time": "2019-12-11T07:03:01.422321Z",
     "start_time": "2019-12-11T07:03:01.292351Z"
    }
   },
   "outputs": [
    {
     "name": "stdout",
     "output_type": "stream",
     "text": [
      "1500/1500 [==============================] - 0s 81us/step\n"
     ]
    },
    {
     "data": {
      "text/plain": [
       "[0.24622120058536529, 0.9246666668256124]"
      ]
     },
     "execution_count": 20,
     "metadata": {},
     "output_type": "execute_result"
    }
   ],
   "source": [
    "#Your code here; print the loss and accuracy for the test set.\n",
    "results_test = model.evaluate(test, label_test)\n",
    "results_test"
   ]
  },
  {
   "cell_type": "markdown",
   "metadata": {},
   "source": [
    "We can see that the training set results are really good, but the test set results lag behind. In the next lab. We'll talk a little more about this in the next lecture, and will discuss how we can get better test set results as well!"
   ]
  },
  {
   "cell_type": "markdown",
   "metadata": {},
   "source": [
    "## Additional Resources"
   ]
  },
  {
   "cell_type": "markdown",
   "metadata": {},
   "source": [
    "https://github.com/susanli2016/Machine-Learning-with-Python/blob/master/Consumer_complaints.ipynb"
   ]
  },
  {
   "cell_type": "markdown",
   "metadata": {},
   "source": [
    "https://catalog.data.gov/dataset/consumer-complaint-database"
   ]
  },
  {
   "cell_type": "markdown",
   "metadata": {},
   "source": [
    "## Summary \n",
    "\n",
    "Congratulations! In this lab, you built a neural network with much less production time thanks to the tools provided by Keras! In upcoming lessons and labs we'll continue to investigate further ideas regarding how to tune and refine these models for increased accuracy and performance."
   ]
  }
 ],
 "metadata": {
  "kernelspec": {
   "display_name": "Python 3",
   "language": "python",
   "name": "python3"
  },
  "language_info": {
   "codemirror_mode": {
    "name": "ipython",
    "version": 3
   },
   "file_extension": ".py",
   "mimetype": "text/x-python",
   "name": "python",
   "nbconvert_exporter": "python",
   "pygments_lexer": "ipython3",
   "version": "3.6.6"
  },
  "toc": {
   "base_numbering": 1,
   "nav_menu": {},
   "number_sections": true,
   "sideBar": true,
   "skip_h1_title": false,
   "title_cell": "Table of Contents",
   "title_sidebar": "Contents",
   "toc_cell": false,
   "toc_position": {},
   "toc_section_display": true,
   "toc_window_display": false
  }
 },
 "nbformat": 4,
 "nbformat_minor": 2
}
