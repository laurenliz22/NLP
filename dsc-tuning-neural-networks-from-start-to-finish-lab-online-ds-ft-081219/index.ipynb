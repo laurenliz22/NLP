{
 "cells": [
  {
   "cell_type": "markdown",
   "metadata": {
    "toc": true
   },
   "source": [
    "<h1>Table of Contents<span class=\"tocSkip\"></span></h1>\n",
    "<div class=\"toc\"><ul class=\"toc-item\"><li><span><a href=\"#Tuning-and-Optimizing-Neural-Networks---Lab\" data-toc-modified-id=\"Tuning-and-Optimizing-Neural-Networks---Lab-1\"><span class=\"toc-item-num\">1&nbsp;&nbsp;</span>Tuning and Optimizing Neural Networks - Lab</a></span><ul class=\"toc-item\"><li><span><a href=\"#Introduction\" data-toc-modified-id=\"Introduction-1.1\"><span class=\"toc-item-num\">1.1&nbsp;&nbsp;</span>Introduction</a></span></li><li><span><a href=\"#Objectives\" data-toc-modified-id=\"Objectives-1.2\"><span class=\"toc-item-num\">1.2&nbsp;&nbsp;</span>Objectives</a></span></li><li><span><a href=\"#Loading-the-Data\" data-toc-modified-id=\"Loading-the-Data-1.3\"><span class=\"toc-item-num\">1.3&nbsp;&nbsp;</span>Loading the Data</a></span></li><li><span><a href=\"#Defining-the-Problem\" data-toc-modified-id=\"Defining-the-Problem-1.4\"><span class=\"toc-item-num\">1.4&nbsp;&nbsp;</span>Defining the Problem</a></span></li><li><span><a href=\"#Generating-a-Hold-Out-Test-Set\" data-toc-modified-id=\"Generating-a-Hold-Out-Test-Set-1.5\"><span class=\"toc-item-num\">1.5&nbsp;&nbsp;</span>Generating a Hold Out Test Set</a></span><ul class=\"toc-item\"><li><span><a href=\"#Preprocessing-Steps\" data-toc-modified-id=\"Preprocessing-Steps-1.5.1\"><span class=\"toc-item-num\">1.5.1&nbsp;&nbsp;</span>Preprocessing Steps</a></span></li><li><span><a href=\"#Preprocess-Your-Holdout-Set\" data-toc-modified-id=\"Preprocess-Your-Holdout-Set-1.5.2\"><span class=\"toc-item-num\">1.5.2&nbsp;&nbsp;</span>Preprocess Your Holdout Set</a></span></li></ul></li><li><span><a href=\"#Defining-a-K-fold-Cross-Validation-Methodology\" data-toc-modified-id=\"Defining-a-K-fold-Cross-Validation-Methodology-1.6\"><span class=\"toc-item-num\">1.6&nbsp;&nbsp;</span>Defining a K-fold Cross Validation Methodology</a></span></li><li><span><a href=\"#Building-a-Baseline-Model\" data-toc-modified-id=\"Building-a-Baseline-Model-1.7\"><span class=\"toc-item-num\">1.7&nbsp;&nbsp;</span>Building a Baseline Model</a></span></li><li><span><a href=\"#Evaluating-the-Baseline-Model-with-K-Folds-Cross-Validation\" data-toc-modified-id=\"Evaluating-the-Baseline-Model-with-K-Folds-Cross-Validation-1.8\"><span class=\"toc-item-num\">1.8&nbsp;&nbsp;</span>Evaluating the Baseline Model with K-Folds Cross Validation</a></span></li><li><span><a href=\"#Intentionally-Overfitting-a-Model\" data-toc-modified-id=\"Intentionally-Overfitting-a-Model-1.9\"><span class=\"toc-item-num\">1.9&nbsp;&nbsp;</span>Intentionally Overfitting a Model</a></span></li><li><span><a href=\"#Regularizing-the-Model-to-Achieve-Balance\" data-toc-modified-id=\"Regularizing-the-Model-to-Achieve-Balance-1.10\"><span class=\"toc-item-num\">1.10&nbsp;&nbsp;</span>Regularizing the Model to Achieve Balance</a></span></li><li><span><a href=\"#Final-Evaluation\" data-toc-modified-id=\"Final-Evaluation-1.11\"><span class=\"toc-item-num\">1.11&nbsp;&nbsp;</span>Final Evaluation</a></span></li><li><span><a href=\"#Summary\" data-toc-modified-id=\"Summary-1.12\"><span class=\"toc-item-num\">1.12&nbsp;&nbsp;</span>Summary</a></span></li></ul></li></ul></div>"
   ]
  },
  {
   "cell_type": "markdown",
   "metadata": {},
   "source": [
    "# Tuning and Optimizing Neural Networks - Lab\n",
    "\n",
    "## Introduction\n",
    "\n",
    "Now that you've seen some regularization, initialization and optimization techniques, its time to synthesize those concepts into a cohesive modeling pipeline.  \n",
    "\n",
    "With this pipeline, you will not only fit an initial model but will also attempt to set various hyperparameters for regularization techniques. Your final model selection will pertain to the test metrics across these models. This will more naturally simulate a problem you might be faced with in practice, and the various modeling decisions you are apt to encounter along the way.  \n",
    "\n",
    "Recall that our end objective is to achieve a balance between overfitting and underfitting. You've seen the bias variance trade-off, and the role of regularization in order to reduce overfitting on training data and improving generalization to new cases. Common frameworks for such a procedure include train/validate/test methodology when data is plentiful, and K-folds cross-validation for smaller, more limited datasets. In this lab, you'll perform the latter, as the dataset in question is fairly limited. \n",
    "\n",
    "## Objectives\n",
    "\n",
    "You will be able to:\n",
    "\n",
    "* Implement a K-folds cross validation modeling pipeline\n",
    "* Apply normalization as a preprocessing technique\n",
    "* Apply regularization techniques to improve your model's generalization\n",
    "* Choose an appropriate optimization strategy "
   ]
  },
  {
   "cell_type": "markdown",
   "metadata": {},
   "source": [
    "## Loading the Data\n",
    "\n",
    "Load and preview the dataset below."
   ]
  },
  {
   "cell_type": "code",
   "execution_count": 3,
   "metadata": {
    "ExecuteTime": {
     "end_time": "2019-12-11T19:04:07.524455Z",
     "start_time": "2019-12-11T19:04:07.350476Z"
    }
   },
   "outputs": [
    {
     "name": "stdout",
     "output_type": "stream",
     "text": [
      "42538\n"
     ]
    },
    {
     "data": {
      "text/html": [
       "<div>\n",
       "<style scoped>\n",
       "    .dataframe tbody tr th:only-of-type {\n",
       "        vertical-align: middle;\n",
       "    }\n",
       "\n",
       "    .dataframe tbody tr th {\n",
       "        vertical-align: top;\n",
       "    }\n",
       "\n",
       "    .dataframe thead th {\n",
       "        text-align: right;\n",
       "    }\n",
       "</style>\n",
       "<table border=\"1\" class=\"dataframe\">\n",
       "  <thead>\n",
       "    <tr style=\"text-align: right;\">\n",
       "      <th></th>\n",
       "      <th>loan_amnt</th>\n",
       "      <th>funded_amnt_inv</th>\n",
       "      <th>term</th>\n",
       "      <th>int_rate</th>\n",
       "      <th>installment</th>\n",
       "      <th>grade</th>\n",
       "      <th>emp_length</th>\n",
       "      <th>home_ownership</th>\n",
       "      <th>annual_inc</th>\n",
       "      <th>verification_status</th>\n",
       "      <th>loan_status</th>\n",
       "      <th>purpose</th>\n",
       "      <th>addr_state</th>\n",
       "      <th>total_acc</th>\n",
       "      <th>total_pymnt</th>\n",
       "      <th>application_type</th>\n",
       "    </tr>\n",
       "  </thead>\n",
       "  <tbody>\n",
       "    <tr>\n",
       "      <th>0</th>\n",
       "      <td>5000.0</td>\n",
       "      <td>4975.0</td>\n",
       "      <td>36 months</td>\n",
       "      <td>10.65%</td>\n",
       "      <td>162.87</td>\n",
       "      <td>B</td>\n",
       "      <td>10+ years</td>\n",
       "      <td>RENT</td>\n",
       "      <td>24000.0</td>\n",
       "      <td>Verified</td>\n",
       "      <td>Fully Paid</td>\n",
       "      <td>credit_card</td>\n",
       "      <td>AZ</td>\n",
       "      <td>9.0</td>\n",
       "      <td>5863.155187</td>\n",
       "      <td>Individual</td>\n",
       "    </tr>\n",
       "    <tr>\n",
       "      <th>1</th>\n",
       "      <td>2500.0</td>\n",
       "      <td>2500.0</td>\n",
       "      <td>60 months</td>\n",
       "      <td>15.27%</td>\n",
       "      <td>59.83</td>\n",
       "      <td>C</td>\n",
       "      <td>&lt; 1 year</td>\n",
       "      <td>RENT</td>\n",
       "      <td>30000.0</td>\n",
       "      <td>Source Verified</td>\n",
       "      <td>Charged Off</td>\n",
       "      <td>car</td>\n",
       "      <td>GA</td>\n",
       "      <td>4.0</td>\n",
       "      <td>1014.530000</td>\n",
       "      <td>Individual</td>\n",
       "    </tr>\n",
       "    <tr>\n",
       "      <th>2</th>\n",
       "      <td>2400.0</td>\n",
       "      <td>2400.0</td>\n",
       "      <td>36 months</td>\n",
       "      <td>15.96%</td>\n",
       "      <td>84.33</td>\n",
       "      <td>C</td>\n",
       "      <td>10+ years</td>\n",
       "      <td>RENT</td>\n",
       "      <td>12252.0</td>\n",
       "      <td>Not Verified</td>\n",
       "      <td>Fully Paid</td>\n",
       "      <td>small_business</td>\n",
       "      <td>IL</td>\n",
       "      <td>10.0</td>\n",
       "      <td>3005.666844</td>\n",
       "      <td>Individual</td>\n",
       "    </tr>\n",
       "    <tr>\n",
       "      <th>3</th>\n",
       "      <td>10000.0</td>\n",
       "      <td>10000.0</td>\n",
       "      <td>36 months</td>\n",
       "      <td>13.49%</td>\n",
       "      <td>339.31</td>\n",
       "      <td>C</td>\n",
       "      <td>10+ years</td>\n",
       "      <td>RENT</td>\n",
       "      <td>49200.0</td>\n",
       "      <td>Source Verified</td>\n",
       "      <td>Fully Paid</td>\n",
       "      <td>other</td>\n",
       "      <td>CA</td>\n",
       "      <td>37.0</td>\n",
       "      <td>12231.890000</td>\n",
       "      <td>Individual</td>\n",
       "    </tr>\n",
       "    <tr>\n",
       "      <th>4</th>\n",
       "      <td>3000.0</td>\n",
       "      <td>3000.0</td>\n",
       "      <td>60 months</td>\n",
       "      <td>12.69%</td>\n",
       "      <td>67.79</td>\n",
       "      <td>B</td>\n",
       "      <td>1 year</td>\n",
       "      <td>RENT</td>\n",
       "      <td>80000.0</td>\n",
       "      <td>Source Verified</td>\n",
       "      <td>Fully Paid</td>\n",
       "      <td>other</td>\n",
       "      <td>OR</td>\n",
       "      <td>38.0</td>\n",
       "      <td>4066.908161</td>\n",
       "      <td>Individual</td>\n",
       "    </tr>\n",
       "  </tbody>\n",
       "</table>\n",
       "</div>"
      ],
      "text/plain": [
       "   loan_amnt  funded_amnt_inv        term int_rate  installment grade  \\\n",
       "0     5000.0           4975.0   36 months   10.65%       162.87     B   \n",
       "1     2500.0           2500.0   60 months   15.27%        59.83     C   \n",
       "2     2400.0           2400.0   36 months   15.96%        84.33     C   \n",
       "3    10000.0          10000.0   36 months   13.49%       339.31     C   \n",
       "4     3000.0           3000.0   60 months   12.69%        67.79     B   \n",
       "\n",
       "  emp_length home_ownership  annual_inc verification_status  loan_status  \\\n",
       "0  10+ years           RENT     24000.0            Verified   Fully Paid   \n",
       "1   < 1 year           RENT     30000.0     Source Verified  Charged Off   \n",
       "2  10+ years           RENT     12252.0        Not Verified   Fully Paid   \n",
       "3  10+ years           RENT     49200.0     Source Verified   Fully Paid   \n",
       "4     1 year           RENT     80000.0     Source Verified   Fully Paid   \n",
       "\n",
       "          purpose addr_state  total_acc   total_pymnt application_type  \n",
       "0     credit_card         AZ        9.0   5863.155187       Individual  \n",
       "1             car         GA        4.0   1014.530000       Individual  \n",
       "2  small_business         IL       10.0   3005.666844       Individual  \n",
       "3           other         CA       37.0  12231.890000       Individual  \n",
       "4           other         OR       38.0   4066.908161       Individual  "
      ]
     },
     "execution_count": 3,
     "metadata": {},
     "output_type": "execute_result"
    }
   ],
   "source": [
    "# Your code here; load and preview the dataset\n",
    "import pandas as pd\n",
    "data = pd.read_csv(\"loan_final.csv\", header=0)\n",
    "print(len(data))\n",
    "data.head()"
   ]
  },
  {
   "cell_type": "code",
   "execution_count": 4,
   "metadata": {
    "ExecuteTime": {
     "end_time": "2019-12-11T19:04:14.372579Z",
     "start_time": "2019-12-11T19:04:14.329509Z"
    }
   },
   "outputs": [
    {
     "name": "stdout",
     "output_type": "stream",
     "text": [
      "42535\n"
     ]
    },
    {
     "data": {
      "text/html": [
       "<div>\n",
       "<style scoped>\n",
       "    .dataframe tbody tr th:only-of-type {\n",
       "        vertical-align: middle;\n",
       "    }\n",
       "\n",
       "    .dataframe tbody tr th {\n",
       "        vertical-align: top;\n",
       "    }\n",
       "\n",
       "    .dataframe thead th {\n",
       "        text-align: right;\n",
       "    }\n",
       "</style>\n",
       "<table border=\"1\" class=\"dataframe\">\n",
       "  <thead>\n",
       "    <tr style=\"text-align: right;\">\n",
       "      <th></th>\n",
       "      <th>loan_amnt</th>\n",
       "      <th>funded_amnt_inv</th>\n",
       "      <th>term</th>\n",
       "      <th>int_rate</th>\n",
       "      <th>installment</th>\n",
       "      <th>grade</th>\n",
       "      <th>emp_length</th>\n",
       "      <th>home_ownership</th>\n",
       "      <th>annual_inc</th>\n",
       "      <th>verification_status</th>\n",
       "      <th>loan_status</th>\n",
       "      <th>purpose</th>\n",
       "      <th>addr_state</th>\n",
       "      <th>total_acc</th>\n",
       "      <th>total_pymnt</th>\n",
       "      <th>application_type</th>\n",
       "    </tr>\n",
       "  </thead>\n",
       "  <tbody>\n",
       "    <tr>\n",
       "      <th>0</th>\n",
       "      <td>5000.0</td>\n",
       "      <td>4975.0</td>\n",
       "      <td>36 months</td>\n",
       "      <td>10.65%</td>\n",
       "      <td>162.87</td>\n",
       "      <td>B</td>\n",
       "      <td>10+ years</td>\n",
       "      <td>RENT</td>\n",
       "      <td>24000.0</td>\n",
       "      <td>Verified</td>\n",
       "      <td>Fully Paid</td>\n",
       "      <td>credit_card</td>\n",
       "      <td>AZ</td>\n",
       "      <td>9.0</td>\n",
       "      <td>5863.155187</td>\n",
       "      <td>Individual</td>\n",
       "    </tr>\n",
       "    <tr>\n",
       "      <th>1</th>\n",
       "      <td>2500.0</td>\n",
       "      <td>2500.0</td>\n",
       "      <td>60 months</td>\n",
       "      <td>15.27%</td>\n",
       "      <td>59.83</td>\n",
       "      <td>C</td>\n",
       "      <td>&lt; 1 year</td>\n",
       "      <td>RENT</td>\n",
       "      <td>30000.0</td>\n",
       "      <td>Source Verified</td>\n",
       "      <td>Charged Off</td>\n",
       "      <td>car</td>\n",
       "      <td>GA</td>\n",
       "      <td>4.0</td>\n",
       "      <td>1014.530000</td>\n",
       "      <td>Individual</td>\n",
       "    </tr>\n",
       "    <tr>\n",
       "      <th>2</th>\n",
       "      <td>2400.0</td>\n",
       "      <td>2400.0</td>\n",
       "      <td>36 months</td>\n",
       "      <td>15.96%</td>\n",
       "      <td>84.33</td>\n",
       "      <td>C</td>\n",
       "      <td>10+ years</td>\n",
       "      <td>RENT</td>\n",
       "      <td>12252.0</td>\n",
       "      <td>Not Verified</td>\n",
       "      <td>Fully Paid</td>\n",
       "      <td>small_business</td>\n",
       "      <td>IL</td>\n",
       "      <td>10.0</td>\n",
       "      <td>3005.666844</td>\n",
       "      <td>Individual</td>\n",
       "    </tr>\n",
       "    <tr>\n",
       "      <th>3</th>\n",
       "      <td>10000.0</td>\n",
       "      <td>10000.0</td>\n",
       "      <td>36 months</td>\n",
       "      <td>13.49%</td>\n",
       "      <td>339.31</td>\n",
       "      <td>C</td>\n",
       "      <td>10+ years</td>\n",
       "      <td>RENT</td>\n",
       "      <td>49200.0</td>\n",
       "      <td>Source Verified</td>\n",
       "      <td>Fully Paid</td>\n",
       "      <td>other</td>\n",
       "      <td>CA</td>\n",
       "      <td>37.0</td>\n",
       "      <td>12231.890000</td>\n",
       "      <td>Individual</td>\n",
       "    </tr>\n",
       "    <tr>\n",
       "      <th>4</th>\n",
       "      <td>3000.0</td>\n",
       "      <td>3000.0</td>\n",
       "      <td>60 months</td>\n",
       "      <td>12.69%</td>\n",
       "      <td>67.79</td>\n",
       "      <td>B</td>\n",
       "      <td>1 year</td>\n",
       "      <td>RENT</td>\n",
       "      <td>80000.0</td>\n",
       "      <td>Source Verified</td>\n",
       "      <td>Fully Paid</td>\n",
       "      <td>other</td>\n",
       "      <td>OR</td>\n",
       "      <td>38.0</td>\n",
       "      <td>4066.908161</td>\n",
       "      <td>Individual</td>\n",
       "    </tr>\n",
       "  </tbody>\n",
       "</table>\n",
       "</div>"
      ],
      "text/plain": [
       "   loan_amnt  funded_amnt_inv        term int_rate  installment grade  \\\n",
       "0     5000.0           4975.0   36 months   10.65%       162.87     B   \n",
       "1     2500.0           2500.0   60 months   15.27%        59.83     C   \n",
       "2     2400.0           2400.0   36 months   15.96%        84.33     C   \n",
       "3    10000.0          10000.0   36 months   13.49%       339.31     C   \n",
       "4     3000.0           3000.0   60 months   12.69%        67.79     B   \n",
       "\n",
       "  emp_length home_ownership  annual_inc verification_status  loan_status  \\\n",
       "0  10+ years           RENT     24000.0            Verified   Fully Paid   \n",
       "1   < 1 year           RENT     30000.0     Source Verified  Charged Off   \n",
       "2  10+ years           RENT     12252.0        Not Verified   Fully Paid   \n",
       "3  10+ years           RENT     49200.0     Source Verified   Fully Paid   \n",
       "4     1 year           RENT     80000.0     Source Verified   Fully Paid   \n",
       "\n",
       "          purpose addr_state  total_acc   total_pymnt application_type  \n",
       "0     credit_card         AZ        9.0   5863.155187       Individual  \n",
       "1             car         GA        4.0   1014.530000       Individual  \n",
       "2  small_business         IL       10.0   3005.666844       Individual  \n",
       "3           other         CA       37.0  12231.890000       Individual  \n",
       "4           other         OR       38.0   4066.908161       Individual  "
      ]
     },
     "execution_count": 4,
     "metadata": {},
     "output_type": "execute_result"
    }
   ],
   "source": [
    "# drop rows with no label\n",
    "data.dropna(subset=['total_pymnt'],inplace=True)\n",
    "print(len(data))\n",
    "data.head()"
   ]
  },
  {
   "cell_type": "code",
   "execution_count": 5,
   "metadata": {
    "ExecuteTime": {
     "end_time": "2019-12-11T19:04:19.601462Z",
     "start_time": "2019-12-11T19:04:19.548739Z"
    }
   },
   "outputs": [
    {
     "name": "stdout",
     "output_type": "stream",
     "text": [
      "<class 'pandas.core.frame.DataFrame'>\n",
      "Int64Index: 42535 entries, 0 to 42537\n",
      "Data columns (total 16 columns):\n",
      "loan_amnt              42535 non-null float64\n",
      "funded_amnt_inv        42535 non-null float64\n",
      "term                   42535 non-null object\n",
      "int_rate               42535 non-null object\n",
      "installment            42535 non-null float64\n",
      "grade                  42535 non-null object\n",
      "emp_length             41423 non-null object\n",
      "home_ownership         42535 non-null object\n",
      "annual_inc             42531 non-null float64\n",
      "verification_status    42535 non-null object\n",
      "loan_status            42535 non-null object\n",
      "purpose                42535 non-null object\n",
      "addr_state             42535 non-null object\n",
      "total_acc              42506 non-null float64\n",
      "total_pymnt            42535 non-null float64\n",
      "application_type       42535 non-null object\n",
      "dtypes: float64(6), object(10)\n",
      "memory usage: 5.5+ MB\n"
     ]
    }
   ],
   "source": [
    "data.info()"
   ]
  },
  {
   "cell_type": "markdown",
   "metadata": {},
   "source": [
    "## Defining the Problem\n",
    "\n",
    "Set up the problem by defining X and y. \n",
    "\n",
    "For this problem use the following variables for X:\n",
    "* loan_amnt\n",
    "* home_ownership\n",
    "* funded_amnt_inv\n",
    "* verification_status\n",
    "* emp_length\n",
    "* installment\n",
    "* annual_inc\n",
    "\n",
    "Our target variable y will be ```total_pymnt```"
   ]
  },
  {
   "cell_type": "code",
   "execution_count": 6,
   "metadata": {
    "ExecuteTime": {
     "end_time": "2019-12-11T19:04:49.644752Z",
     "start_time": "2019-12-11T19:04:49.624805Z"
    }
   },
   "outputs": [],
   "source": [
    "# Your code here; appropriately define X and y and apply a train test split\n",
    "import numpy as np\n",
    "\n",
    "features = ['loan_amnt', 'funded_amnt_inv', 'installment', 'annual_inc', 'home_ownership', 'verification_status', 'emp_length']\n",
    "\n",
    "X = data.loc[:, features]\n",
    "y = data.loc[:, 'total_pymnt']"
   ]
  },
  {
   "cell_type": "markdown",
   "metadata": {},
   "source": [
    "## Generating a Hold Out Test Set\n",
    "\n",
    "While we will be using K-fold cross validation to select an optimal model, we still want a final hold out test set that is completely independent of any modeling decisions. As such, pull out a sample of 10% of the total available data. For consistency of results, use random seed 123. "
   ]
  },
  {
   "cell_type": "code",
   "execution_count": 8,
   "metadata": {
    "ExecuteTime": {
     "end_time": "2019-12-11T19:06:13.293875Z",
     "start_time": "2019-12-11T19:06:13.277319Z"
    }
   },
   "outputs": [],
   "source": [
    "# Your code here; generate a hold out test set for final model evaluation. Use random seed 123.\n",
    "from sklearn.model_selection import train_test_split\n",
    "X_train, X_test, y_train, y_test = train_test_split(X, y, test_size = 0.1, random_state=123)"
   ]
  },
  {
   "cell_type": "markdown",
   "metadata": {},
   "source": [
    "### Preprocessing Steps\n",
    "* Fill in missing values with SimpleImputer\n",
    "* Standardize continuous features with StandardScalar()\n",
    "* One hot encode categorical features with OneHotEncoder()"
   ]
  },
  {
   "cell_type": "code",
   "execution_count": 9,
   "metadata": {
    "ExecuteTime": {
     "end_time": "2019-12-11T19:07:32.912164Z",
     "start_time": "2019-12-11T19:07:32.876166Z"
    }
   },
   "outputs": [],
   "source": [
    "from sklearn.preprocessing import StandardScaler, OneHotEncoder\n",
    "from sklearn.impute import SimpleImputer\n",
    "\n",
    "\n",
    "# Select continuous features\n",
    "cont_features = ['loan_amnt', 'funded_amnt_inv', 'installment', 'annual_inc']\n",
    "X_train_cont = X_train.loc[:, cont_features]\n",
    "\n",
    "# Fill missing values with the mean\n",
    "cont_imp = SimpleImputer(strategy='mean')\n",
    "cont_imp.fit(X_train_cont)\n",
    "X_train_cont = cont_imp.transform(X_train_cont)\n",
    "\n",
    "# standardized inputs\n",
    "sc = StandardScaler()\n",
    "sc.fit(X_train_cont)\n",
    "X_train_scaled = sc.transform(X_train_cont)\n",
    "\n",
    "# Create continuous features dataframe\n",
    "cont_train_df = pd.DataFrame(X_train_scaled, columns=cont_features)"
   ]
  },
  {
   "cell_type": "code",
   "execution_count": 10,
   "metadata": {
    "ExecuteTime": {
     "end_time": "2019-12-11T19:07:56.602740Z",
     "start_time": "2019-12-11T19:07:56.536078Z"
    }
   },
   "outputs": [],
   "source": [
    "# Select only the categorical features\n",
    "cat_features = ['home_ownership', 'verification_status', 'emp_length']\n",
    "X_train_cat = X_train.loc[:, cat_features]\n",
    "\n",
    "# Replace NaNs with 'missing'\n",
    "cat_imp = SimpleImputer(strategy='constant', fill_value='missing')\n",
    "cat_imp.fit(X_train_cat)\n",
    "X_train_cat = cat_imp.transform(X_train_cat)\n",
    "\n",
    "# Encode Categorical Features\n",
    "ohe = OneHotEncoder(handle_unknown='ignore')\n",
    "ohe.fit(X_train_cat)\n",
    "X_train_ohe = ohe.transform(X_train_cat)\n",
    "\n",
    "# Create categorical features dataframe\n",
    "cat_train_df = pd.DataFrame(X_train_ohe.todense(), columns=ohe.get_feature_names(input_features=cat_features))"
   ]
  },
  {
   "cell_type": "code",
   "execution_count": 11,
   "metadata": {
    "ExecuteTime": {
     "end_time": "2019-12-11T19:08:01.145141Z",
     "start_time": "2019-12-11T19:08:01.075783Z"
    }
   },
   "outputs": [
    {
     "name": "stdout",
     "output_type": "stream",
     "text": [
      "<class 'pandas.core.frame.DataFrame'>\n",
      "RangeIndex: 38281 entries, 0 to 38280\n",
      "Data columns (total 24 columns):\n",
      "loan_amnt                              38281 non-null float64\n",
      "funded_amnt_inv                        38281 non-null float64\n",
      "installment                            38281 non-null float64\n",
      "annual_inc                             38281 non-null float64\n",
      "home_ownership_MORTGAGE                38281 non-null float64\n",
      "home_ownership_NONE                    38281 non-null float64\n",
      "home_ownership_OTHER                   38281 non-null float64\n",
      "home_ownership_OWN                     38281 non-null float64\n",
      "home_ownership_RENT                    38281 non-null float64\n",
      "verification_status_Not Verified       38281 non-null float64\n",
      "verification_status_Source Verified    38281 non-null float64\n",
      "verification_status_Verified           38281 non-null float64\n",
      "emp_length_1 year                      38281 non-null float64\n",
      "emp_length_10+ years                   38281 non-null float64\n",
      "emp_length_2 years                     38281 non-null float64\n",
      "emp_length_3 years                     38281 non-null float64\n",
      "emp_length_4 years                     38281 non-null float64\n",
      "emp_length_5 years                     38281 non-null float64\n",
      "emp_length_6 years                     38281 non-null float64\n",
      "emp_length_7 years                     38281 non-null float64\n",
      "emp_length_8 years                     38281 non-null float64\n",
      "emp_length_9 years                     38281 non-null float64\n",
      "emp_length_< 1 year                    38281 non-null float64\n",
      "emp_length_missing                     38281 non-null float64\n",
      "dtypes: float64(24)\n",
      "memory usage: 7.0 MB\n"
     ]
    }
   ],
   "source": [
    "# Combine continuous and categorical feature dataframes\n",
    "X_train_all = pd.concat([cont_train_df, cat_train_df], axis=1)\n",
    "X_train_all.info()"
   ]
  },
  {
   "cell_type": "markdown",
   "metadata": {},
   "source": [
    "### Preprocess Your Holdout Set\n",
    "\n",
    "Make sure to use your StandardScalar and OneHotEncoder that you already fit on the training set to transform your test set"
   ]
  },
  {
   "cell_type": "code",
   "execution_count": 12,
   "metadata": {
    "ExecuteTime": {
     "end_time": "2019-12-11T19:08:33.450528Z",
     "start_time": "2019-12-11T19:08:33.439119Z"
    }
   },
   "outputs": [],
   "source": [
    "# Select continuous features\n",
    "X_test_cont = X_test.loc[:, cont_features]\n",
    "\n",
    "# Fill missing values with the mean\n",
    "X_test_cont = cont_imp.transform(X_test_cont)\n",
    "\n",
    "# standardized inputs\n",
    "X_test_scaled = sc.transform(X_test_cont)\n",
    "\n",
    "# Create continuous features dataframe\n",
    "cont_test_df = pd.DataFrame(X_test_scaled, columns=cont_features)"
   ]
  },
  {
   "cell_type": "code",
   "execution_count": 13,
   "metadata": {
    "ExecuteTime": {
     "end_time": "2019-12-11T19:08:42.171718Z",
     "start_time": "2019-12-11T19:08:42.154245Z"
    }
   },
   "outputs": [],
   "source": [
    "# Select only the categorical features\n",
    "X_test_cat = X_test.loc[:, cat_features]\n",
    "\n",
    "# Replace NaNs with 'missing'\n",
    "X_test_cat = cat_imp.transform(X_test_cat)\n",
    "\n",
    "# Encode Categorical Features\n",
    "X_test_ohe = ohe.transform(X_test_cat)\n",
    "\n",
    "# Create categorical features dataframe\n",
    "cat_test_df = pd.DataFrame(X_test_ohe.todense(), columns=ohe.get_feature_names(input_features=cat_features))"
   ]
  },
  {
   "cell_type": "code",
   "execution_count": 14,
   "metadata": {
    "ExecuteTime": {
     "end_time": "2019-12-11T19:08:43.952246Z",
     "start_time": "2019-12-11T19:08:43.933194Z"
    }
   },
   "outputs": [
    {
     "name": "stdout",
     "output_type": "stream",
     "text": [
      "<class 'pandas.core.frame.DataFrame'>\n",
      "RangeIndex: 4254 entries, 0 to 4253\n",
      "Data columns (total 24 columns):\n",
      "loan_amnt                              4254 non-null float64\n",
      "funded_amnt_inv                        4254 non-null float64\n",
      "installment                            4254 non-null float64\n",
      "annual_inc                             4254 non-null float64\n",
      "home_ownership_MORTGAGE                4254 non-null float64\n",
      "home_ownership_NONE                    4254 non-null float64\n",
      "home_ownership_OTHER                   4254 non-null float64\n",
      "home_ownership_OWN                     4254 non-null float64\n",
      "home_ownership_RENT                    4254 non-null float64\n",
      "verification_status_Not Verified       4254 non-null float64\n",
      "verification_status_Source Verified    4254 non-null float64\n",
      "verification_status_Verified           4254 non-null float64\n",
      "emp_length_1 year                      4254 non-null float64\n",
      "emp_length_10+ years                   4254 non-null float64\n",
      "emp_length_2 years                     4254 non-null float64\n",
      "emp_length_3 years                     4254 non-null float64\n",
      "emp_length_4 years                     4254 non-null float64\n",
      "emp_length_5 years                     4254 non-null float64\n",
      "emp_length_6 years                     4254 non-null float64\n",
      "emp_length_7 years                     4254 non-null float64\n",
      "emp_length_8 years                     4254 non-null float64\n",
      "emp_length_9 years                     4254 non-null float64\n",
      "emp_length_< 1 year                    4254 non-null float64\n",
      "emp_length_missing                     4254 non-null float64\n",
      "dtypes: float64(24)\n",
      "memory usage: 797.7 KB\n"
     ]
    }
   ],
   "source": [
    "# Combine continuous and categorical feature dataframes\n",
    "X_test_all = pd.concat([cont_test_df, cat_test_df], axis=1)\n",
    "X_test_all.info()"
   ]
  },
  {
   "cell_type": "markdown",
   "metadata": {},
   "source": [
    "## Defining a K-fold Cross Validation Methodology\n",
    "\n",
    "Now that your have a complete holdout test set, write a function that takes in the remaining data and performs k-folds cross validation given a model object. \n",
    "\n",
    "> Note: Think about how you will analyze the output of your models in order to select an optimal model. This may involve graphs, although alternative approaches are certainly feasible."
   ]
  },
  {
   "cell_type": "code",
   "execution_count": 15,
   "metadata": {
    "ExecuteTime": {
     "end_time": "2019-12-11T19:09:13.672749Z",
     "start_time": "2019-12-11T19:09:12.999910Z"
    }
   },
   "outputs": [],
   "source": [
    "# Your code here; define a function to evaluate a model object using K folds cross validation.\n",
    "from sklearn.model_selection import KFold\n",
    "import seaborn as sns\n",
    "import matplotlib.pyplot as plt\n",
    "%matplotlib inline"
   ]
  },
  {
   "cell_type": "code",
   "execution_count": 16,
   "metadata": {
    "ExecuteTime": {
     "end_time": "2019-12-11T19:09:38.738096Z",
     "start_time": "2019-12-11T19:09:38.722981Z"
    }
   },
   "outputs": [],
   "source": [
    "def k_folds(features_train, labels_train, model_obj, k=10, n_epochs=100):\n",
    "    colors = sns.color_palette(\"Set2\")\n",
    "    validation_scores = []\n",
    "    kf = KFold(n_splits=10, shuffle=True)\n",
    "    fig, axes = plt.subplots(2, 5, figsize=(12,8))\n",
    "    for i, (train_index, test_index) in enumerate(kf.split(features_train)):\n",
    "        \"Currently graph imaging assumes 10 folds and is hardcoded to 5x2 layout.\"\n",
    "        \n",
    "        row = i//5\n",
    "        col = i%5\n",
    "        \n",
    "        X_train, X_val = features_train.iloc[train_index], features_train.iloc[test_index]\n",
    "        y_train, y_val = labels_train.iloc[train_index], labels_train.iloc[test_index]\n",
    "        \n",
    "        model = model_obj\n",
    "        \n",
    "        hist = model.fit(X_train, y_train, batch_size=32,\n",
    "                         epochs=n_epochs, verbose=0, validation_data = (X_val, y_val))\n",
    "        #Note: verboxe=0 turns off printouts regarding training for each epoch.\n",
    "        #Potential simpler methodology\n",
    "        validation_score = model.evaluate(X_val, y_val)\n",
    "        validation_scores.append(validation_score)\n",
    "        ax = axes[row, col]\n",
    "        k = 'val_loss'\n",
    "        d = hist.history[k]\n",
    "        ax.plot(d, label=k, color=colors[0])\n",
    "\n",
    "        k = 'loss'\n",
    "        d = hist.history[k]\n",
    "        ax.plot(d, label=k, color=colors[1])\n",
    "        ax.set_title('Fold {} Validation'.format(i+1))\n",
    "        \n",
    "    #Final Graph Formatting\n",
    "    plt.subplots_adjust(left=None, bottom=None, right=None, top=None, wspace=0.5, hspace=None)\n",
    "    plt.legend(bbox_to_anchor=(1,1))\n",
    "    \n",
    "    #General Overview\n",
    "    validation_score = np.average(validation_scores)\n",
    "    print('Mean Validation Score:', validation_score)\n",
    "    print('Standard Deviation of Validation Scores:', np.std(validation_scores))\n",
    "    return validation_score"
   ]
  },
  {
   "cell_type": "markdown",
   "metadata": {},
   "source": [
    "## Building a Baseline Model\n",
    "\n",
    "Here, it is also important to define your evaluation metric that you will look to optimize while tuning the model. Additionally, model training to optimize this metric may consist of using a validation and test set if data is plentiful, or k-folds cross-validation if data is limited. Since this dataset is not overly large, it will be most appropriate to set up a k-folds cross-validation  "
   ]
  },
  {
   "cell_type": "code",
   "execution_count": 17,
   "metadata": {
    "ExecuteTime": {
     "end_time": "2019-12-11T19:09:57.756608Z",
     "start_time": "2019-12-11T19:09:54.925787Z"
    }
   },
   "outputs": [
    {
     "name": "stderr",
     "output_type": "stream",
     "text": [
      "Using TensorFlow backend.\n"
     ]
    }
   ],
   "source": [
    "# Your code here; define and compile an initial model as described\n",
    "from keras.models import Sequential\n",
    "from keras.layers import Dense\n",
    "\n",
    "input_dim = X_train_all.shape[1]\n",
    "\n",
    "np.random.seed(123)\n",
    "model = Sequential()\n",
    "model.add(Dense(7, input_dim=input_dim, kernel_initializer='normal', activation='relu'))\n",
    "model.add(Dense(10, activation='relu'))\n",
    "model.add(Dense(1, kernel_initializer='normal', activation = 'linear'))\n",
    "model.compile(optimizer=\"sgd\" ,loss='mse',metrics=['mse'])"
   ]
  },
  {
   "cell_type": "markdown",
   "metadata": {},
   "source": [
    "## Evaluating the Baseline Model with K-Folds Cross Validation\n",
    "\n",
    "Use your k-folds function to evaluate the baseline model.  \n",
    "\n",
    "Note: This code block is likely to take 10-20 minutes to run depending on the specs on your computer.\n",
    "Because of time dependencies, it can be interesting to begin timing these operations for future reference.\n",
    "\n",
    "Here's a simple little recipe to achieve this:\n",
    "```\n",
    "import time\n",
    "import datetime\n",
    "\n",
    "now = datetime.datetime.now()\n",
    "later = datetime.datetime.now()\n",
    "elapsed = later - now\n",
    "print('Time Elapsed:', elapsed)\n",
    "```"
   ]
  },
  {
   "cell_type": "code",
   "execution_count": null,
   "metadata": {
    "ExecuteTime": {
     "start_time": "2019-12-11T19:10:20.664Z"
    }
   },
   "outputs": [
    {
     "name": "stdout",
     "output_type": "stream",
     "text": [
      "3829/3829 [==============================] - 0s 28us/step\n",
      "3828/3828 [==============================] - 0s 22us/step\n",
      "3828/3828 [==============================] - 0s 22us/step\n",
      "3828/3828 [==============================] - 0s 16us/step\n",
      "3828/3828 [==============================] - 0s 36us/step\n",
      "3828/3828 [==============================] - 0s 25us/step\n",
      "3828/3828 [==============================] - 0s 29us/step\n"
     ]
    }
   ],
   "source": [
    "# Your code here; use your k-folds function to evaluate the baseline model.\n",
    "# ⏰ This cell may take several mintes to run\n",
    "import time\n",
    "import datetime\n",
    "\n",
    "now = datetime.datetime.now()\n",
    "\n",
    "k_folds(X_train_all, y_train, model)\n",
    "\n",
    "later = datetime.datetime.now()\n",
    "elapsed = later - now\n",
    "print('Time Elapsed:', elapsed)"
   ]
  },
  {
   "cell_type": "markdown",
   "metadata": {},
   "source": [
    "## Intentionally Overfitting a Model\n",
    "\n",
    "Now that you've developed a baseline model, its time to intentionally overfit a model. To overfit a model, you can:\n",
    "* Add layers\n",
    "* Make the layers bigger\n",
    "* Increase the number of training epochs\n",
    "\n",
    "Again, be careful here. Think about the limitations of your resources, both in terms of your computers specs and how much time and patience you have to let the process run. Also keep in mind that you will then be regularizing these overfit models, meaning another round of experiments and more time and resources."
   ]
  },
  {
   "cell_type": "code",
   "execution_count": null,
   "metadata": {},
   "outputs": [],
   "source": [
    "# Your code here; try some methods to overfit your network\n",
    "# ⏰ This cell may take several mintes to run\n",
    "now = datetime.datetime.now()\n",
    "\n",
    "input_dim = X_train_all.shape[1]\n",
    "\n",
    "#Model Mod 1: Adding More Layers\n",
    "model = Sequential()\n",
    "model.add(Dense(7, input_dim=input_dim, kernel_initializer='normal', activation='relu'))\n",
    "model.add(Dense(10, activation='relu'))\n",
    "model.add(Dense(10, activation='relu'))\n",
    "model.add(Dense(10, activation='relu'))\n",
    "model.add(Dense(1, kernel_initializer='normal', activation = 'linear'))\n",
    "model.compile(optimizer=\"sgd\" ,loss='mse',metrics=['mse'])\n",
    "\n",
    "k_folds(X_train_all, y_train, model)    \n",
    "\n",
    "later = datetime.datetime.now()\n",
    "elapsed = later - now\n",
    "print('Time Elapsed:', elapsed)"
   ]
  },
  {
   "cell_type": "code",
   "execution_count": null,
   "metadata": {},
   "outputs": [],
   "source": [
    "# Your code here; try some methods to overfit your network\n",
    "# ⏰ This cell may take several mintes to run\n",
    "now = datetime.datetime.now()\n",
    "\n",
    "input_dim = X_train_all.shape[1]\n",
    "\n",
    "model = Sequential()\n",
    "model.add(Dense(7, input_dim=input_dim, kernel_initializer='normal', activation='relu'))\n",
    "model.add(Dense(25, activation='relu'))\n",
    "model.add(Dense(25, activation='relu'))\n",
    "model.add(Dense(25, activation='relu'))\n",
    "model.add(Dense(1, kernel_initializer='normal', activation = 'linear'))\n",
    "model.compile(optimizer=\"sgd\" ,loss='mse',metrics=['mse'])\n",
    "\n",
    "k_folds(X_train, y_train, model)    \n",
    "\n",
    "later = datetime.datetime.now()\n",
    "elapsed = later - now\n",
    "print('Time Elapsed:', elapsed)"
   ]
  },
  {
   "cell_type": "code",
   "execution_count": null,
   "metadata": {},
   "outputs": [],
   "source": [
    "# Your code here; try some methods to overfit your network\n",
    "# ⏰ This cell may take several mintes to run\n",
    "now = datetime.datetime.now()\n",
    "\n",
    "input_dim = X_train_all.shape[1]\n",
    "\n",
    "model = Sequential()\n",
    "model.add(Dense(7, input_dim=input_dim, kernel_initializer='normal', activation='relu'))\n",
    "model.add(Dense(10, activation='relu'))\n",
    "model.add(Dense(10, activation='relu'))\n",
    "model.add(Dense(10, activation='relu'))\n",
    "model.add(Dense(1, kernel_initializer='normal', activation = 'linear'))\n",
    "model.compile(optimizer=\"sgd\" ,loss='mse',metrics=['mse'])\n",
    "\n",
    "k_folds(X_train_all, y_train, model, n_epochs=250)\n",
    "\n",
    "later = datetime.datetime.now()\n",
    "elapsed = later - now\n",
    "print('Time Elapsed:', elapsed)"
   ]
  },
  {
   "cell_type": "markdown",
   "metadata": {},
   "source": [
    "## Regularizing the Model to Achieve Balance  \n",
    "\n",
    "Now that you have a powerful model (albeit an overfit one), we can now increase the generalization of the model by using some of the regularization techniques we discussed. Some options you have to try include:  \n",
    "* Adding dropout\n",
    "* Adding L1/L2 regularization\n",
    "* Altering the layer architecture (add or remove layers similar to above)  \n",
    "\n",
    "This process will be constrained by time and resources. Be sure to test at least 2 different methodologies, such as dropout and L2 regularization. If you have the time, feel free to continue experimenting.\n",
    "\n",
    "Notes: "
   ]
  },
  {
   "cell_type": "code",
   "execution_count": null,
   "metadata": {},
   "outputs": [],
   "source": [
    "# L1 Regularization\n",
    "from keras import regularizers\n",
    "\n",
    "#kernel_regularizer=regularizers.l1(0.005)\n",
    "#kernel_regularizer=regularizers.l2(0.005)\n",
    "#model.add(layers.Dropout(0.3))\n",
    "\n",
    "now = datetime.datetime.now()\n",
    "\n",
    "input_dim = X_train_all.shape[1]\n",
    "\n",
    "model = Sequential()\n",
    "model.add(Dense(7, input_dim=input_dim, kernel_initializer='normal', activation='relu'))\n",
    "model.add(Dense(10, kernel_regularizer=regularizers.l1(0.005), activation='relu'))\n",
    "model.add(Dense(10, kernel_regularizer=regularizers.l1(0.005), activation='relu'))\n",
    "model.add(Dense(10, kernel_regularizer=regularizers.l1(0.005), activation='relu'))\n",
    "model.add(Dense(1, kernel_initializer='normal', activation = 'linear'))\n",
    "model.compile(optimizer=\"sgd\" ,loss='mse',metrics=['mse'])\n",
    "\n",
    "k_folds(X_train_all, y_train, model, n_epochs=250) \n",
    "\n",
    "later = datetime.datetime.now()\n",
    "elapsed = later - now\n",
    "print('Time Elapsed:', elapsed)"
   ]
  },
  {
   "cell_type": "code",
   "execution_count": null,
   "metadata": {},
   "outputs": [],
   "source": [
    "# L2 Regularization and Early Stopping\n",
    "now = datetime.datetime.now()\n",
    "\n",
    "input_dim = X_train_all.shape[1]\n",
    "\n",
    "model = Sequential()\n",
    "model.add(Dense(7, input_dim=input_dim, kernel_initializer='normal', activation='relu'))\n",
    "model.add(Dense(10, kernel_regularizer=regularizers.l2(0.005), activation='relu'))\n",
    "model.add(Dense(10, kernel_regularizer=regularizers.l2(0.005), activation='relu'))\n",
    "model.add(Dense(10, kernel_regularizer=regularizers.l2(0.005), activation='relu'))\n",
    "model.add(Dense(1, kernel_initializer='normal', activation = 'linear'))\n",
    "model.compile(optimizer=\"sgd\" ,loss='mse',metrics=['mse'])\n",
    "\n",
    "k_folds(X_train_all, y_train, model, n_epochs=75) \n",
    "\n",
    "later = datetime.datetime.now()\n",
    "elapsed = later - now\n",
    "print('Time Elapsed:', elapsed)"
   ]
  },
  {
   "cell_type": "code",
   "execution_count": null,
   "metadata": {},
   "outputs": [],
   "source": [
    "# Dropout and Early Stopping\n",
    "from keras import layers\n",
    "\n",
    "now = datetime.datetime.now()\n",
    "\n",
    "input_dim = X_train_all.shape[1]\n",
    "\n",
    "model = Sequential()\n",
    "model.add(Dense(7, input_dim=input_dim, kernel_initializer='normal', activation='relu'))\n",
    "model.add(Dense(10, activation='relu'))\n",
    "model.add(layers.Dropout(0.3))\n",
    "model.add(Dense(10, activation='relu'))\n",
    "model.add(layers.Dropout(0.3))\n",
    "model.add(Dense(10, activation='relu'))\n",
    "model.add(layers.Dropout(0.3))\n",
    "model.add(Dense(1, kernel_initializer='normal', activation = 'linear'))\n",
    "model.compile(optimizer=\"sgd\" ,loss='mse',metrics=['mse'])\n",
    "\n",
    "k_folds(X_train_all, y_train, model, n_epochs=75) \n",
    "\n",
    "later = datetime.datetime.now()\n",
    "elapsed = later - now\n",
    "print('Time Elapsed:', elapsed)"
   ]
  },
  {
   "cell_type": "code",
   "execution_count": null,
   "metadata": {},
   "outputs": [],
   "source": [
    "# L1, Dropout and Early Stopping\n",
    "\n",
    "now = datetime.datetime.now()\n",
    "\n",
    "input_dim = X_train_all.shape[1]\n",
    "\n",
    "model = Sequential()\n",
    "model.add(Dense(7, input_dim=input_dim, kernel_initializer='normal', activation='relu'))\n",
    "model.add(Dense(10, kernel_regularizer=regularizers.l1(0.005), activation='relu'))\n",
    "model.add(layers.Dropout(0.3))\n",
    "model.add(Dense(10, kernel_regularizer=regularizers.l1(0.005), activation='relu'))\n",
    "model.add(layers.Dropout(0.3))\n",
    "model.add(Dense(10, kernel_regularizer=regularizers.l1(0.005), activation='relu'))\n",
    "model.add(layers.Dropout(0.3))\n",
    "model.add(Dense(1, kernel_initializer='normal', activation = 'linear'))\n",
    "model.compile(optimizer=\"sgd\" ,loss='mse',metrics=['mse'])\n",
    "\n",
    "k_folds(X_train_all, y_train, model, n_epochs=75) \n",
    "\n",
    "later = datetime.datetime.now()\n",
    "elapsed = later - now\n",
    "print('Time Elapsed:', elapsed)"
   ]
  },
  {
   "cell_type": "markdown",
   "metadata": {},
   "source": [
    "## Final Evaluation\n",
    "\n",
    "Now that you have selected a network architecture, tested various regularization procedures and tuned hyperparameters via a validation methodology, it is time to evaluate your finalized model once and for all. Fit the model using all of the training and validation data using the architecture and hyperparameters that were most effective in your experiments above. Afterwards, measure the overall performance on the hold-out test data which has been left untouched (and hasn't leaked any data into the modeling process)!"
   ]
  },
  {
   "cell_type": "code",
   "execution_count": null,
   "metadata": {},
   "outputs": [],
   "source": [
    "# Your code here; final model training on entire training set followed by evaluation on hold-out data\n",
    "\n",
    "# Based on our model runs above, it appears that using  L2 Regularization and Early Stopping\n",
    "# improves our variance 10 fold in exchange for a slight increase in MSE\n",
    "# As such, we will choose this as our final model in hopes that the model will have improved generalization\n",
    "now = datetime.datetime.now()\n",
    "\n",
    "input_dim = X_train_all.shape[1]\n",
    "\n",
    "model = Sequential()\n",
    "model.add(Dense(7, input_dim=input_dim, kernel_initializer='normal', activation='relu'))\n",
    "model.add(Dense(10, kernel_regularizer=regularizers.l2(0.005), activation='relu'))\n",
    "model.add(Dense(10, kernel_regularizer=regularizers.l2(0.005), activation='relu'))\n",
    "model.add(Dense(10, kernel_regularizer=regularizers.l2(0.005), activation='relu'))\n",
    "model.add(Dense(1, kernel_initializer='normal', activation = 'linear'))\n",
    "model.compile(optimizer=\"sgd\" ,loss='mse',metrics=['mse'])\n",
    "\n",
    "hist =  hist = model.fit(X_train_all, y_train, batch_size=32, epochs=75)\n",
    "\n",
    "later = datetime.datetime.now()\n",
    "elapsed = later - now\n",
    "print('Time Elapsed:', elapsed)"
   ]
  },
  {
   "cell_type": "code",
   "execution_count": null,
   "metadata": {},
   "outputs": [],
   "source": [
    "model.evaluate(X_test_all, y_test)"
   ]
  },
  {
   "cell_type": "markdown",
   "metadata": {},
   "source": [
    "## Summary\n",
    "\n",
    "In this lab, you investigated some data from *The Lending Club* in a complete data science pipeline regarding neural networks. You began with reserving a hold-out set for testing which never was touched during the modeling phase. From there, you implemented a k-fold cross validation methodology in order to assess an initial baseline model and various regularization methods. From here, you'll begin to investigate other neural network architectures such as CNNs."
   ]
  }
 ],
 "metadata": {
  "kernelspec": {
   "display_name": "Python 3",
   "language": "python",
   "name": "python3"
  },
  "language_info": {
   "codemirror_mode": {
    "name": "ipython",
    "version": 3
   },
   "file_extension": ".py",
   "mimetype": "text/x-python",
   "name": "python",
   "nbconvert_exporter": "python",
   "pygments_lexer": "ipython3",
   "version": "3.6.6"
  },
  "toc": {
   "base_numbering": 1,
   "nav_menu": {},
   "number_sections": true,
   "sideBar": true,
   "skip_h1_title": false,
   "title_cell": "Table of Contents",
   "title_sidebar": "Contents",
   "toc_cell": true,
   "toc_position": {},
   "toc_section_display": true,
   "toc_window_display": false
  }
 },
 "nbformat": 4,
 "nbformat_minor": 2
}
